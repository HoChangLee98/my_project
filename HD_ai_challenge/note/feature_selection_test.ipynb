{
 "cells": [
  {
   "cell_type": "code",
   "execution_count": 1,
   "metadata": {},
   "outputs": [],
   "source": [
    "# import os\n",
    "import sys\n",
    "sys.path.append(\"../src/\")\n",
    "# import argparse\n",
    "import pandas as pd\n",
    "import numpy as np\n",
    "\n",
    "from sklearn.metrics import mean_absolute_error\n",
    "\n",
    "from utils import *\n",
    "from preprocess import PreProcessor\n",
    "from feature_engineering import make_feature\n",
    "from model import ClassificationModel, output_index, RegressionModel, OptunaProcessor"
   ]
  },
  {
   "cell_type": "code",
   "execution_count": 2,
   "metadata": {},
   "outputs": [],
   "source": [
    "classification_method = 'False'\n",
    "log_transform = 'False'\n",
    "regression_model_name = 'xgboost'\n",
    "pickle_path='../pickle'\n",
    "version='version4'\n",
    "method='replace_areamean_no_cls_no_log'\n",
    "mode='optuna'\n",
    "n_trials=10"
   ]
  },
  {
   "cell_type": "code",
   "execution_count": 3,
   "metadata": {},
   "outputs": [],
   "source": [
    "## load data set\n",
    "X_train, y_train, X_valid, y_valid = load_dataset(mode='train')\n",
    "categorical_feature = ['ARI_CO', 'ARI_PO', 'SHIP_TYPE_CATEGORY', 'SHIPMANAGER', 'FLAG', 'BREADTH', 'DEPTH', 'DRAUGHT', 'year']\n",
    "# categorical_feature = ['ARI_CO', 'ARI_PO', 'SHIP_TYPE_CATEGORY', 'ID', 'SHIPMANAGER', 'FLAG', 'BREADTH', 'DEPTH', 'DRAUGHT', 'year']\n",
    "\n",
    "minmaxscale_feature = ['DIST', 'BUILT', 'DEADWEIGHT', 'GT', 'LENGTH', 'DUBAI', 'BRENT', 'WTI', 'BDI_ADJ', 'PORT_SIZE']"
   ]
  },
  {
   "cell_type": "code",
   "execution_count": 4,
   "metadata": {},
   "outputs": [],
   "source": [
    "## Delete ID\n",
    "X_train = X_train.drop(columns='ID')\n",
    "X_valid = X_valid.drop(columns='ID')"
   ]
  },
  {
   "cell_type": "code",
   "execution_count": 5,
   "metadata": {},
   "outputs": [],
   "source": [
    "## preprocess data set\n",
    "preprocessing = PreProcessor(categorical_feature=categorical_feature, minmaxscale_feature=minmaxscale_feature)\n",
    "mean_values_train = preprocessing.nan_area_mean_fit(X_train)\n",
    "ship_mean_values_train = preprocessing.nan_ship_fit(X_train)\n",
    "\n",
    "X_train = preprocessing.preprocess(X_train, method='area_mean', mean_values=mean_values_train, ship_mean_values=ship_mean_values_train)\n",
    "X_valid = preprocessing.preprocess(X_valid, method='area_mean', mean_values=mean_values_train, ship_mean_values=ship_mean_values_train)\n",
    "\n",
    "encoder_dict = preprocessing.categorical_process_fit(X_train)\n",
    "scaler = preprocessing.minmaxscale_process_fit(X_train)\n",
    "\n",
    "X_train = preprocessing.transform(X_train, encoder=encoder_dict, scaler=scaler)\n",
    "X_valid = preprocessing.transform(X_valid, encoder=encoder_dict, scaler=scaler)\n",
    "\n",
    "X_train, y_train = reset_data(X_train, y_train)\n",
    "X_valid, y_valid = reset_data(X_valid, y_valid)"
   ]
  },
  {
   "cell_type": "code",
   "execution_count": 6,
   "metadata": {},
   "outputs": [
    {
     "name": "stdout",
     "output_type": "stream",
     "text": [
      "Done Feature Engineering!\n"
     ]
    }
   ],
   "source": [
    "## feature engineering\n",
    "X_train = make_feature(X_train)    \n",
    "X_valid = make_feature(X_valid)\n",
    "print(\"Done Feature Engineering!\")"
   ]
  },
  {
   "cell_type": "code",
   "execution_count": 7,
   "metadata": {},
   "outputs": [],
   "source": [
    "## binary\n",
    "if classification_method == 'True':\n",
    "    extractor = ClassificationModel(\n",
    "        X_train=X_train, \n",
    "        y_train=y_train, \n",
    "        X_valid=X_valid, \n",
    "        y_valid=y_valid, \n",
    "        classifier_name=classification_model_name,         \n",
    "        ) \n",
    "    classifier = extractor.fit() \n",
    "        \n",
    "    train_none_zero_index = output_index(classifier=classifier, df=X_train)\n",
    "    valid_none_zero_index = output_index(classifier=classifier, df=X_valid)\n",
    "    X_train_ = X_train.loc[train_none_zero_index,:]\n",
    "    y_train_ = y_train.loc[train_none_zero_index]\n",
    "    X_valid_ = X_valid.loc[valid_none_zero_index,:]\n",
    "    y_valid_ = y_valid.loc[valid_none_zero_index]\n",
    "else:\n",
    "    X_train_ = X_train.copy()\n",
    "    y_train_ = y_train.copy()\n",
    "    X_valid_ = X_valid.copy()\n",
    "    y_valid_ = y_valid.copy()"
   ]
  },
  {
   "cell_type": "code",
   "execution_count": 8,
   "metadata": {},
   "outputs": [],
   "source": [
    "## log transform\n",
    "if log_transform == 'True':\n",
    "    y_train_ = np.log1p(y_train_)\n",
    "    y_valid_ = np.log1p(y_valid_)        "
   ]
  },
  {
   "cell_type": "code",
   "execution_count": 9,
   "metadata": {},
   "outputs": [
    {
     "name": "stderr",
     "output_type": "stream",
     "text": [
      "[I 2023-10-12 14:57:05,358] A new study created in memory with name: no-name-96f210fb-52da-4383-9a4c-ad191ae4486a\n"
     ]
    },
    {
     "name": "stdout",
     "output_type": "stream",
     "text": [
      "     Strat Optuna!\n"
     ]
    },
    {
     "name": "stderr",
     "output_type": "stream",
     "text": [
      "[I 2023-10-12 14:57:11,750] Trial 0 finished with value: 53.13686745730172 and parameters: {'eta': 0.08225204224480184, 'gamma': 420, 'max_depth': 7, 'min_child_weight': 128, 'max_delta_step': 27, 'subsample': 0.03151706538042922, 'colsample_bytree': 0.022683317806018177, 'lambda': 9.449030643642377, 'alpha': 9.668615816620534, 'max_cat_to_onehot': 1, 'num_round': 489, 'n_estimaters': 5612}. Best is trial 0 with value: 53.13686745730172.\n",
      "[I 2023-10-12 14:57:20,050] Trial 1 finished with value: 52.74367797576356 and parameters: {'eta': 0.288717331249859, 'gamma': 408, 'max_depth': 9, 'min_child_weight': 0, 'max_delta_step': 13, 'subsample': 0.2754578370446348, 'colsample_bytree': 0.006487857472429056, 'lambda': 7.59041107907262, 'alpha': 7.883146393339575, 'max_cat_to_onehot': 3, 'num_round': 773, 'n_estimaters': 6489}. Best is trial 1 with value: 52.74367797576356.\n",
      "[I 2023-10-12 14:57:26,964] Trial 2 finished with value: 50.92753319281049 and parameters: {'eta': 0.634383083887618, 'gamma': 88, 'max_depth': 2, 'min_child_weight': 62, 'max_delta_step': 36, 'subsample': 0.06966805103599191, 'colsample_bytree': 0.1652668812397341, 'lambda': 9.1148015811183, 'alpha': 9.701372975335062, 'max_cat_to_onehot': 5, 'num_round': 444, 'n_estimaters': 7312}. Best is trial 2 with value: 50.92753319281049.\n",
      "[I 2023-10-12 14:57:34,313] Trial 3 finished with value: 52.30301996749925 and parameters: {'eta': 0.04332125694814859, 'gamma': 13, 'max_depth': 6, 'min_child_weight': 4, 'max_delta_step': 10, 'subsample': 0.07405749437850077, 'colsample_bytree': 0.05205207730284725, 'lambda': 0.7066914010646819, 'alpha': 1.0448070764768913, 'max_cat_to_onehot': 3, 'num_round': 594, 'n_estimaters': 5459}. Best is trial 2 with value: 50.92753319281049.\n",
      "[I 2023-10-12 14:57:44,126] Trial 4 finished with value: 52.75408097244493 and parameters: {'eta': 0.1299572196918216, 'gamma': 390, 'max_depth': 9, 'min_child_weight': 260, 'max_delta_step': 47, 'subsample': 0.3719053803101572, 'colsample_bytree': 0.015151863443454344, 'lambda': 1.698822704424121, 'alpha': 1.226231453998794, 'max_cat_to_onehot': 7, 'num_round': 353, 'n_estimaters': 2890}. Best is trial 2 with value: 50.92753319281049.\n",
      "[I 2023-10-12 14:57:53,328] Trial 5 finished with value: 51.753450453959424 and parameters: {'eta': 0.03147724706574893, 'gamma': 798, 'max_depth': 6, 'min_child_weight': 202, 'max_delta_step': 33, 'subsample': 0.3560546664980261, 'colsample_bytree': 0.12066840186793028, 'lambda': 2.6757199848410664, 'alpha': 9.172547361350555, 'max_cat_to_onehot': 1, 'num_round': 707, 'n_estimaters': 3271}. Best is trial 2 with value: 50.92753319281049.\n",
      "[I 2023-10-12 14:58:01,001] Trial 6 finished with value: 53.472715067752084 and parameters: {'eta': 0.06347642990095993, 'gamma': 738, 'max_depth': 4, 'min_child_weight': 430, 'max_delta_step': 2, 'subsample': 0.1784764951943081, 'colsample_bytree': 0.0054415730569178375, 'lambda': 2.9452131300206172, 'alpha': 0.39447230921117127, 'max_cat_to_onehot': 3, 'num_round': 255, 'n_estimaters': 6809}. Best is trial 2 with value: 50.92753319281049.\n",
      "[I 2023-10-12 14:58:11,842] Trial 7 finished with value: 52.4056880798124 and parameters: {'eta': 0.03325281007794523, 'gamma': 100, 'max_depth': 9, 'min_child_weight': 86, 'max_delta_step': 6, 'subsample': 0.1625951813434054, 'colsample_bytree': 0.0001557805011775657, 'lambda': 4.763992667853621, 'alpha': 3.7040057296957727, 'max_cat_to_onehot': 2, 'num_round': 681, 'n_estimaters': 7869}. Best is trial 2 with value: 50.92753319281049.\n",
      "[I 2023-10-12 14:58:27,133] Trial 8 finished with value: 52.70483028070463 and parameters: {'eta': 0.6230822359121961, 'gamma': 203, 'max_depth': 2, 'min_child_weight': 214, 'max_delta_step': 4, 'subsample': 0.3012480527626464, 'colsample_bytree': 0.0014459187491396067, 'lambda': 1.1370750649233774, 'alpha': 4.05388023006468, 'max_cat_to_onehot': 10, 'num_round': 928, 'n_estimaters': 1123}. Best is trial 2 with value: 50.92753319281049.\n",
      "[I 2023-10-12 14:58:38,871] Trial 9 finished with value: 53.08198820280447 and parameters: {'eta': 0.7781813289424286, 'gamma': 561, 'max_depth': 1, 'min_child_weight': 134, 'max_delta_step': 33, 'subsample': 0.06128166587742546, 'colsample_bytree': 0.05919445490983981, 'lambda': 7.98419596901663, 'alpha': 6.148961375151968, 'max_cat_to_onehot': 8, 'num_round': 276, 'n_estimaters': 8904}. Best is trial 2 with value: 50.92753319281049.\n"
     ]
    },
    {
     "name": "stdout",
     "output_type": "stream",
     "text": [
      "     Done Optuna!\n"
     ]
    }
   ],
   "source": [
    "## progress optuna\n",
    "if mode == 'optuna':\n",
    "    print(\"     Strat Optuna!\")\n",
    "    optuna = OptunaProcessor(\n",
    "        X_train=X_train_, \n",
    "        y_train=y_train_, \n",
    "        X_valid=X_valid_, \n",
    "        y_valid=y_valid_, \n",
    "        categorical_feature=categorical_feature\n",
    "        )\n",
    "    optuna_process = optuna.run_optuna(n_trials=n_trials, model_name=regression_model_name)\n",
    "    best_optuna_params = optuna_process.best_trial.params\n",
    "    print(\"     Done Optuna!\")\n",
    "    \n",
    "#     save_pickle(file=best_optuna_params, file_name=f\"{args.regression_model_name}_optuna\", path=f\"{args.pickle_path}/{args.version}/{args.method}/regressor\")\n",
    "\n",
    "# else: \n",
    "# best_optuna_params = load_pickle(file_name=f\"{regression_model_name}_optuna\", path=f\"{pickle_path}/{version}/{method}/regressor\")"
   ]
  },
  {
   "cell_type": "code",
   "execution_count": 10,
   "metadata": {},
   "outputs": [],
   "source": [
    "## train model\n",
    "model = RegressionModel(\n",
    "    model_params=best_optuna_params, \n",
    "    categorical_feature=categorical_feature, \n",
    "    X_train=X_train_, \n",
    "    y_train=y_train_, \n",
    "    X_valid=X_valid_, \n",
    "    y_valid=y_valid_, \n",
    "    model_name=regression_model_name\n",
    "    )\n",
    "    \n",
    "model = model.fit()\n",
    "\n",
    "model_feature_importance = pd.DataFrame(\n",
    "    {'feature' : model.feature_names_in_, \n",
    "     'importance' : model.feature_importances_}).sort_values(by='importance', ascending=False)\n",
    "\n",
    "# save_pickle(file=model, file_name=args.regression_model_name, path=f\"{args.pickle_path}/{args.version}/{args.method}/regressor\")"
   ]
  },
  {
   "cell_type": "code",
   "execution_count": 11,
   "metadata": {},
   "outputs": [
    {
     "data": {
      "text/html": [
       "<div>\n",
       "<style scoped>\n",
       "    .dataframe tbody tr th:only-of-type {\n",
       "        vertical-align: middle;\n",
       "    }\n",
       "\n",
       "    .dataframe tbody tr th {\n",
       "        vertical-align: top;\n",
       "    }\n",
       "\n",
       "    .dataframe thead th {\n",
       "        text-align: right;\n",
       "    }\n",
       "</style>\n",
       "<table border=\"1\" class=\"dataframe\">\n",
       "  <thead>\n",
       "    <tr style=\"text-align: right;\">\n",
       "      <th></th>\n",
       "      <th>feature</th>\n",
       "      <th>importance</th>\n",
       "    </tr>\n",
       "  </thead>\n",
       "  <tbody>\n",
       "    <tr>\n",
       "      <th>3</th>\n",
       "      <td>DIST</td>\n",
       "      <td>0.585232</td>\n",
       "    </tr>\n",
       "    <tr>\n",
       "      <th>2</th>\n",
       "      <td>SHIP_TYPE_CATEGORY</td>\n",
       "      <td>0.107252</td>\n",
       "    </tr>\n",
       "    <tr>\n",
       "      <th>0</th>\n",
       "      <td>ARI_CO</td>\n",
       "      <td>0.092535</td>\n",
       "    </tr>\n",
       "    <tr>\n",
       "      <th>22</th>\n",
       "      <td>PORT_SIZE</td>\n",
       "      <td>0.071721</td>\n",
       "    </tr>\n",
       "    <tr>\n",
       "      <th>11</th>\n",
       "      <td>SHIPMANAGER</td>\n",
       "      <td>0.049631</td>\n",
       "    </tr>\n",
       "    <tr>\n",
       "      <th>6</th>\n",
       "      <td>DEADWEIGHT</td>\n",
       "      <td>0.033923</td>\n",
       "    </tr>\n",
       "    <tr>\n",
       "      <th>1</th>\n",
       "      <td>ARI_PO</td>\n",
       "      <td>0.033210</td>\n",
       "    </tr>\n",
       "    <tr>\n",
       "      <th>9</th>\n",
       "      <td>GT</td>\n",
       "      <td>0.026496</td>\n",
       "    </tr>\n",
       "    <tr>\n",
       "      <th>19</th>\n",
       "      <td>BRENT</td>\n",
       "      <td>0.000000</td>\n",
       "    </tr>\n",
       "    <tr>\n",
       "      <th>20</th>\n",
       "      <td>WTI</td>\n",
       "      <td>0.000000</td>\n",
       "    </tr>\n",
       "    <tr>\n",
       "      <th>21</th>\n",
       "      <td>BDI_ADJ</td>\n",
       "      <td>0.000000</td>\n",
       "    </tr>\n",
       "    <tr>\n",
       "      <th>23</th>\n",
       "      <td>year</td>\n",
       "      <td>0.000000</td>\n",
       "    </tr>\n",
       "    <tr>\n",
       "      <th>17</th>\n",
       "      <td>ATA_LT</td>\n",
       "      <td>0.000000</td>\n",
       "    </tr>\n",
       "    <tr>\n",
       "      <th>24</th>\n",
       "      <td>month</td>\n",
       "      <td>0.000000</td>\n",
       "    </tr>\n",
       "    <tr>\n",
       "      <th>25</th>\n",
       "      <td>day</td>\n",
       "      <td>0.000000</td>\n",
       "    </tr>\n",
       "    <tr>\n",
       "      <th>26</th>\n",
       "      <td>hour</td>\n",
       "      <td>0.000000</td>\n",
       "    </tr>\n",
       "    <tr>\n",
       "      <th>18</th>\n",
       "      <td>DUBAI</td>\n",
       "      <td>0.000000</td>\n",
       "    </tr>\n",
       "    <tr>\n",
       "      <th>14</th>\n",
       "      <td>V_WIND</td>\n",
       "      <td>0.000000</td>\n",
       "    </tr>\n",
       "    <tr>\n",
       "      <th>16</th>\n",
       "      <td>BN</td>\n",
       "      <td>0.000000</td>\n",
       "    </tr>\n",
       "    <tr>\n",
       "      <th>15</th>\n",
       "      <td>AIR_TEMPERATURE</td>\n",
       "      <td>0.000000</td>\n",
       "    </tr>\n",
       "    <tr>\n",
       "      <th>13</th>\n",
       "      <td>U_WIND</td>\n",
       "      <td>0.000000</td>\n",
       "    </tr>\n",
       "    <tr>\n",
       "      <th>12</th>\n",
       "      <td>FLAG</td>\n",
       "      <td>0.000000</td>\n",
       "    </tr>\n",
       "    <tr>\n",
       "      <th>10</th>\n",
       "      <td>LENGTH</td>\n",
       "      <td>0.000000</td>\n",
       "    </tr>\n",
       "    <tr>\n",
       "      <th>8</th>\n",
       "      <td>DRAUGHT</td>\n",
       "      <td>0.000000</td>\n",
       "    </tr>\n",
       "    <tr>\n",
       "      <th>7</th>\n",
       "      <td>DEPTH</td>\n",
       "      <td>0.000000</td>\n",
       "    </tr>\n",
       "    <tr>\n",
       "      <th>5</th>\n",
       "      <td>BUILT</td>\n",
       "      <td>0.000000</td>\n",
       "    </tr>\n",
       "    <tr>\n",
       "      <th>4</th>\n",
       "      <td>BREADTH</td>\n",
       "      <td>0.000000</td>\n",
       "    </tr>\n",
       "    <tr>\n",
       "      <th>27</th>\n",
       "      <td>wind_speed</td>\n",
       "      <td>0.000000</td>\n",
       "    </tr>\n",
       "  </tbody>\n",
       "</table>\n",
       "</div>"
      ],
      "text/plain": [
       "               feature  importance\n",
       "3                 DIST    0.585232\n",
       "2   SHIP_TYPE_CATEGORY    0.107252\n",
       "0               ARI_CO    0.092535\n",
       "22           PORT_SIZE    0.071721\n",
       "11         SHIPMANAGER    0.049631\n",
       "6           DEADWEIGHT    0.033923\n",
       "1               ARI_PO    0.033210\n",
       "9                   GT    0.026496\n",
       "19               BRENT    0.000000\n",
       "20                 WTI    0.000000\n",
       "21             BDI_ADJ    0.000000\n",
       "23                year    0.000000\n",
       "17              ATA_LT    0.000000\n",
       "24               month    0.000000\n",
       "25                 day    0.000000\n",
       "26                hour    0.000000\n",
       "18               DUBAI    0.000000\n",
       "14              V_WIND    0.000000\n",
       "16                  BN    0.000000\n",
       "15     AIR_TEMPERATURE    0.000000\n",
       "13              U_WIND    0.000000\n",
       "12                FLAG    0.000000\n",
       "10              LENGTH    0.000000\n",
       "8              DRAUGHT    0.000000\n",
       "7                DEPTH    0.000000\n",
       "5                BUILT    0.000000\n",
       "4              BREADTH    0.000000\n",
       "27          wind_speed    0.000000"
      ]
     },
     "execution_count": 11,
     "metadata": {},
     "output_type": "execute_result"
    }
   ],
   "source": [
    "model_feature_importance"
   ]
  },
  {
   "cell_type": "code",
   "execution_count": 12,
   "metadata": {},
   "outputs": [],
   "source": [
    "model = RegressionModel(\n",
    "    model_params=best_optuna_params, \n",
    "    categorical_feature=categorical_feature, \n",
    "    X_train=X_train_[model_feature_importance.loc[model_feature_importance['importance'] > 0, 'feature'].tolist()], \n",
    "    y_train=y_train_, \n",
    "    X_valid=X_valid_[model_feature_importance.loc[model_feature_importance['importance'] > 0, 'feature'].tolist()], \n",
    "    y_valid=y_valid_, \n",
    "    model_name=regression_model_name\n",
    "    )\n",
    "    \n",
    "model = model.fit()\n",
    "\n",
    "\n",
    "if classification_method == 'True':    \n",
    "    y_valid_pred = y_valid.copy()\n",
    "    y_valid_pred['CI_HOUR'] = 0\n",
    "    y_valid_pred.loc[valid_none_zero_index] = model.predict(X_valid.loc[valid_none_zero_index,:])\n",
    "else: \n",
    "    y_valid_pred = model.predict(X_valid_[model_feature_importance.loc[model_feature_importance['importance'] > 0, 'feature'].tolist()])\n",
    "    \n",
    "if log_transform == 'True':\n",
    "    y_valid_pred = np.expm1(y_valid_pred)\n",
    "\n",
    "if classification_method == 'False':\n",
    "    y_valid_pred = after_process(y_pred=y_valid_pred)    \n",
    "\n",
    "mae = mean_absolute_error(y_true=y_valid, y_pred=y_valid_pred)"
   ]
  },
  {
   "cell_type": "code",
   "execution_count": 13,
   "metadata": {},
   "outputs": [
    {
     "name": "stdout",
     "output_type": "stream",
     "text": [
      "51.97756645675461\n"
     ]
    }
   ],
   "source": [
    "print(mae)"
   ]
  },
  {
   "cell_type": "code",
   "execution_count": 14,
   "metadata": {},
   "outputs": [
    {
     "data": {
      "text/plain": [
       "<Axes: ylabel='Density'>"
      ]
     },
     "execution_count": 14,
     "metadata": {},
     "output_type": "execute_result"
    },
    {
     "data": {
      "image/png": "[encoded data removed]",
      "text/plain": [
       "<Figure size 640x480 with 1 Axes>"
      ]
     },
     "metadata": {},
     "output_type": "display_data"
    }
   ],
   "source": [
    "import seaborn as sns\n",
    "sns.kdeplot(y_valid, color=\"red\", shade=True)\n",
    "sns.kdeplot(y_valid_pred, color=\"red\", shade=True)"
   ]
  },
  {
   "cell_type": "code",
   "execution_count": 15,
   "metadata": {},
   "outputs": [],
   "source": [
    "model_feature_importance = pd.DataFrame(\n",
    "    {'feature' : model.feature_names_in_, \n",
    "     'importance' : model.feature_importances_}).sort_values(by='importance', ascending=False)"
   ]
  },
  {
   "cell_type": "code",
   "execution_count": 16,
   "metadata": {},
   "outputs": [
    {
     "data": {
      "text/plain": [
       "8"
      ]
     },
     "execution_count": 16,
     "metadata": {},
     "output_type": "execute_result"
    }
   ],
   "source": [
    "len(model_feature_importance)"
   ]
  },
  {
   "cell_type": "code",
   "execution_count": 17,
   "metadata": {},
   "outputs": [
    {
     "data": {
      "text/html": [
       "<div>\n",
       "<style scoped>\n",
       "    .dataframe tbody tr th:only-of-type {\n",
       "        vertical-align: middle;\n",
       "    }\n",
       "\n",
       "    .dataframe tbody tr th {\n",
       "        vertical-align: top;\n",
       "    }\n",
       "\n",
       "    .dataframe thead th {\n",
       "        text-align: right;\n",
       "    }\n",
       "</style>\n",
       "<table border=\"1\" class=\"dataframe\">\n",
       "  <thead>\n",
       "    <tr style=\"text-align: right;\">\n",
       "      <th></th>\n",
       "      <th>feature</th>\n",
       "      <th>importance</th>\n",
       "    </tr>\n",
       "  </thead>\n",
       "  <tbody>\n",
       "    <tr>\n",
       "      <th>0</th>\n",
       "      <td>DIST</td>\n",
       "      <td>0.632676</td>\n",
       "    </tr>\n",
       "    <tr>\n",
       "      <th>6</th>\n",
       "      <td>ARI_PO</td>\n",
       "      <td>0.097738</td>\n",
       "    </tr>\n",
       "    <tr>\n",
       "      <th>4</th>\n",
       "      <td>SHIPMANAGER</td>\n",
       "      <td>0.070657</td>\n",
       "    </tr>\n",
       "    <tr>\n",
       "      <th>3</th>\n",
       "      <td>PORT_SIZE</td>\n",
       "      <td>0.057676</td>\n",
       "    </tr>\n",
       "    <tr>\n",
       "      <th>1</th>\n",
       "      <td>SHIP_TYPE_CATEGORY</td>\n",
       "      <td>0.039860</td>\n",
       "    </tr>\n",
       "    <tr>\n",
       "      <th>7</th>\n",
       "      <td>GT</td>\n",
       "      <td>0.038305</td>\n",
       "    </tr>\n",
       "    <tr>\n",
       "      <th>2</th>\n",
       "      <td>ARI_CO</td>\n",
       "      <td>0.035901</td>\n",
       "    </tr>\n",
       "    <tr>\n",
       "      <th>5</th>\n",
       "      <td>DEADWEIGHT</td>\n",
       "      <td>0.027187</td>\n",
       "    </tr>\n",
       "  </tbody>\n",
       "</table>\n",
       "</div>"
      ],
      "text/plain": [
       "              feature  importance\n",
       "0                DIST    0.632676\n",
       "6              ARI_PO    0.097738\n",
       "4         SHIPMANAGER    0.070657\n",
       "3           PORT_SIZE    0.057676\n",
       "1  SHIP_TYPE_CATEGORY    0.039860\n",
       "7                  GT    0.038305\n",
       "2              ARI_CO    0.035901\n",
       "5          DEADWEIGHT    0.027187"
      ]
     },
     "execution_count": 17,
     "metadata": {},
     "output_type": "execute_result"
    }
   ],
   "source": [
    "model_feature_importance"
   ]
  },
  {
   "cell_type": "code",
   "execution_count": 18,
   "metadata": {},
   "outputs": [
    {
     "data": {
      "text/plain": [
       "8"
      ]
     },
     "execution_count": 18,
     "metadata": {},
     "output_type": "execute_result"
    }
   ],
   "source": [
    "len(model_feature_importance.loc[model_feature_importance['importance'] > 0, 'feature'])"
   ]
  },
  {
   "cell_type": "code",
   "execution_count": 19,
   "metadata": {},
   "outputs": [
    {
     "data": {
      "text/plain": [
       "['DIST',\n",
       " 'ARI_PO',\n",
       " 'SHIPMANAGER',\n",
       " 'PORT_SIZE',\n",
       " 'SHIP_TYPE_CATEGORY',\n",
       " 'GT',\n",
       " 'ARI_CO',\n",
       " 'DEADWEIGHT']"
      ]
     },
     "execution_count": 19,
     "metadata": {},
     "output_type": "execute_result"
    }
   ],
   "source": [
    "model_feature_importance.loc[model_feature_importance['importance'] > 0, 'feature'].tolist()"
   ]
  }
 ],
 "metadata": {
  "kernelspec": {
   "display_name": "test01",
   "language": "python",
   "name": "python3"
  },
  "language_info": {
   "codemirror_mode": {
    "name": "ipython",
    "version": 3
   },
   "file_extension": ".py",
   "mimetype": "text/x-python",
   "name": "python",
   "nbconvert_exporter": "python",
   "pygments_lexer": "ipython3",
   "version": "3.9.17"
  },
  "orig_nbformat": 4
 },
 "nbformat": 4,
 "nbformat_minor": 2
}
