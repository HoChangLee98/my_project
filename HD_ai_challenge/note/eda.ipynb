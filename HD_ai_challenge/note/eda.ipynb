{
 "cells": [
  {
   "cell_type": "code",
   "execution_count": 1,
   "metadata": {},
   "outputs": [],
   "source": [
    "import pandas as pd\n",
    "import numpy as np"
   ]
  },
  {
   "cell_type": "code",
   "execution_count": 2,
   "metadata": {},
   "outputs": [],
   "source": [
    "train = pd.read_csv(\"../data/train.csv\")\n",
    "test = pd.read_csv(\"../data/test.csv\")\n",
    "data_info = pd.read_csv(\"../data/data_info.txt\")"
   ]
  },
  {
   "cell_type": "code",
   "execution_count": 3,
   "metadata": {},
   "outputs": [
    {
     "data": {
      "text/plain": [
       "SAMPLE_ID                  0\n",
       "ARI_CO                     0\n",
       "ARI_PO                     0\n",
       "SHIP_TYPE_CATEGORY         0\n",
       "DIST                       0\n",
       "ATA                        0\n",
       "ID                         0\n",
       "BREADTH                    0\n",
       "BUILT                      0\n",
       "DEADWEIGHT                 0\n",
       "DEPTH                      0\n",
       "DRAUGHT                    0\n",
       "GT                         0\n",
       "LENGTH                     0\n",
       "SHIPMANAGER                0\n",
       "FLAG                       0\n",
       "U_WIND                101927\n",
       "V_WIND                101927\n",
       "AIR_TEMPERATURE       102511\n",
       "BN                    101927\n",
       "ATA_LT                     0\n",
       "DUBAI                      0\n",
       "BRENT                      0\n",
       "WTI                        0\n",
       "BDI_ADJ                    0\n",
       "PORT_SIZE                  0\n",
       "dtype: int64"
      ]
     },
     "execution_count": 3,
     "metadata": {},
     "output_type": "execute_result"
    }
   ],
   "source": [
    "test.isnull().sum()"
   ]
  },
  {
   "cell_type": "code",
   "execution_count": 25,
   "metadata": {},
   "outputs": [
    {
     "data": {
      "text/plain": [
       "SAMPLE_ID                  0\n",
       "ARI_CO                     0\n",
       "ARI_PO                     0\n",
       "SHIP_TYPE_CATEGORY         0\n",
       "DIST                       0\n",
       "ATA                        0\n",
       "ID                         0\n",
       "BREADTH                    1\n",
       "BUILT                      0\n",
       "DEADWEIGHT                 0\n",
       "DEPTH                      1\n",
       "DRAUGHT                    1\n",
       "GT                         0\n",
       "LENGTH                     1\n",
       "SHIPMANAGER                0\n",
       "FLAG                       0\n",
       "U_WIND                153486\n",
       "V_WIND                153486\n",
       "AIR_TEMPERATURE       154365\n",
       "BN                    153486\n",
       "ATA_LT                     0\n",
       "DUBAI                      0\n",
       "BRENT                      0\n",
       "WTI                        0\n",
       "BDI_ADJ                    0\n",
       "PORT_SIZE                  0\n",
       "CI_HOUR                    0\n",
       "dtype: int64"
      ]
     },
     "execution_count": 25,
     "metadata": {},
     "output_type": "execute_result"
    }
   ],
   "source": [
    "train.isnull().sum()\n",
    "# test.isnull().sum()"
   ]
  },
  {
   "cell_type": "markdown",
   "metadata": {},
   "source": [
    "## feature info"
   ]
  },
  {
   "cell_type": "code",
   "execution_count": 4,
   "metadata": {},
   "outputs": [
    {
     "data": {
      "text/html": [
       "<div>\n",
       "<style scoped>\n",
       "    .dataframe tbody tr th:only-of-type {\n",
       "        vertical-align: middle;\n",
       "    }\n",
       "\n",
       "    .dataframe tbody tr th {\n",
       "        vertical-align: top;\n",
       "    }\n",
       "\n",
       "    .dataframe thead th {\n",
       "        text-align: right;\n",
       "    }\n",
       "</style>\n",
       "<table border=\"1\" class=\"dataframe\">\n",
       "  <thead>\n",
       "    <tr style=\"text-align: right;\">\n",
       "      <th></th>\n",
       "      <th>Feature Name</th>\n",
       "      <th>Description</th>\n",
       "      <th>단위</th>\n",
       "      <th>비고</th>\n",
       "    </tr>\n",
       "  </thead>\n",
       "  <tbody>\n",
       "    <tr>\n",
       "      <th>0</th>\n",
       "      <td>ARI_CO</td>\n",
       "      <td>도착항의 소속국가(도착항 앞 2글자)</td>\n",
       "      <td>NaN</td>\n",
       "      <td>NaN</td>\n",
       "    </tr>\n",
       "    <tr>\n",
       "      <th>1</th>\n",
       "      <td>ARI_PO</td>\n",
       "      <td>도착항의 항구명(도착항 뒤 글자)</td>\n",
       "      <td>NaN</td>\n",
       "      <td>NaN</td>\n",
       "    </tr>\n",
       "    <tr>\n",
       "      <th>2</th>\n",
       "      <td>SHIP_TYPE_CATEGORY</td>\n",
       "      <td>선종 통합 바탕으로 5대 선종으로 분류</td>\n",
       "      <td>NaN</td>\n",
       "      <td>NaN</td>\n",
       "    </tr>\n",
       "    <tr>\n",
       "      <th>3</th>\n",
       "      <td>DIST</td>\n",
       "      <td>정박지(ber_port)와 접안지 사이의 거리</td>\n",
       "      <td>km</td>\n",
       "      <td>NaN</td>\n",
       "    </tr>\n",
       "    <tr>\n",
       "      <th>4</th>\n",
       "      <td>ATA</td>\n",
       "      <td>anc_port에 도착한 시점의 utc. 실제 정박 시각(Actual Time of...</td>\n",
       "      <td>hour</td>\n",
       "      <td>NaN</td>\n",
       "    </tr>\n",
       "    <tr>\n",
       "      <th>5</th>\n",
       "      <td>ID</td>\n",
       "      <td>선박식별 일련번호</td>\n",
       "      <td>NaN</td>\n",
       "      <td>NaN</td>\n",
       "    </tr>\n",
       "    <tr>\n",
       "      <th>6</th>\n",
       "      <td>BREADTH</td>\n",
       "      <td>선박의 폭</td>\n",
       "      <td>m</td>\n",
       "      <td>NaN</td>\n",
       "    </tr>\n",
       "    <tr>\n",
       "      <th>7</th>\n",
       "      <td>BUILT</td>\n",
       "      <td>선박의 연령</td>\n",
       "      <td>year</td>\n",
       "      <td>NaN</td>\n",
       "    </tr>\n",
       "    <tr>\n",
       "      <th>8</th>\n",
       "      <td>DEADWEIGHT</td>\n",
       "      <td>선박의 재화중량톤수</td>\n",
       "      <td>ton</td>\n",
       "      <td>NaN</td>\n",
       "    </tr>\n",
       "    <tr>\n",
       "      <th>9</th>\n",
       "      <td>DEPTH</td>\n",
       "      <td>선박의 깊이</td>\n",
       "      <td>m</td>\n",
       "      <td>NaN</td>\n",
       "    </tr>\n",
       "    <tr>\n",
       "      <th>10</th>\n",
       "      <td>DRAUGHT</td>\n",
       "      <td>흘수 높이</td>\n",
       "      <td>m</td>\n",
       "      <td>NaN</td>\n",
       "    </tr>\n",
       "    <tr>\n",
       "      <th>11</th>\n",
       "      <td>GT</td>\n",
       "      <td>용적톤수(Gross Tonnage)값</td>\n",
       "      <td>GT(m^3)</td>\n",
       "      <td>NaN</td>\n",
       "    </tr>\n",
       "    <tr>\n",
       "      <th>12</th>\n",
       "      <td>LENGTH</td>\n",
       "      <td>선박의 길이</td>\n",
       "      <td>m</td>\n",
       "      <td>NaN</td>\n",
       "    </tr>\n",
       "    <tr>\n",
       "      <th>13</th>\n",
       "      <td>SHIPMANAGER</td>\n",
       "      <td>선박 소유주</td>\n",
       "      <td>NaN</td>\n",
       "      <td>NaN</td>\n",
       "    </tr>\n",
       "    <tr>\n",
       "      <th>14</th>\n",
       "      <td>FLAG</td>\n",
       "      <td>선박의 국적</td>\n",
       "      <td>NaN</td>\n",
       "      <td>NaN</td>\n",
       "    </tr>\n",
       "    <tr>\n",
       "      <th>15</th>\n",
       "      <td>U_WIND</td>\n",
       "      <td>풍향 u벡터</td>\n",
       "      <td>m/s</td>\n",
       "      <td>NaN</td>\n",
       "    </tr>\n",
       "    <tr>\n",
       "      <th>16</th>\n",
       "      <td>V_WIND</td>\n",
       "      <td>풍향 v벡터</td>\n",
       "      <td>m/s</td>\n",
       "      <td>NaN</td>\n",
       "    </tr>\n",
       "    <tr>\n",
       "      <th>17</th>\n",
       "      <td>AIR_TEMPERATURE</td>\n",
       "      <td>기온</td>\n",
       "      <td>ºC</td>\n",
       "      <td>NaN</td>\n",
       "    </tr>\n",
       "    <tr>\n",
       "      <th>18</th>\n",
       "      <td>BN</td>\n",
       "      <td>보퍼트 풍력 계급</td>\n",
       "      <td>NaN</td>\n",
       "      <td>https://ko.wikipedia.org/wiki/보퍼트_풍력_계급</td>\n",
       "    </tr>\n",
       "    <tr>\n",
       "      <th>19</th>\n",
       "      <td>ATA_LT</td>\n",
       "      <td>anc_port에 도착한 시점의 현지 정박 시각(Local Time of Arriv...</td>\n",
       "      <td>hour</td>\n",
       "      <td>NaN</td>\n",
       "    </tr>\n",
       "    <tr>\n",
       "      <th>20</th>\n",
       "      <td>DUBAI</td>\n",
       "      <td>해당일의 두바이유 값</td>\n",
       "      <td>dollar</td>\n",
       "      <td>NaN</td>\n",
       "    </tr>\n",
       "    <tr>\n",
       "      <th>21</th>\n",
       "      <td>BRENT</td>\n",
       "      <td>해당일의 브렌트유 값</td>\n",
       "      <td>dollar</td>\n",
       "      <td>NaN</td>\n",
       "    </tr>\n",
       "    <tr>\n",
       "      <th>22</th>\n",
       "      <td>WTI</td>\n",
       "      <td>해당일의 WTI 값</td>\n",
       "      <td>dollar</td>\n",
       "      <td>NaN</td>\n",
       "    </tr>\n",
       "    <tr>\n",
       "      <th>23</th>\n",
       "      <td>BDI_ADJ</td>\n",
       "      <td>조정된 벌크운임지수</td>\n",
       "      <td>NaN</td>\n",
       "      <td>NaN</td>\n",
       "    </tr>\n",
       "    <tr>\n",
       "      <th>24</th>\n",
       "      <td>PORT_SIZE</td>\n",
       "      <td>접안지 폴리곤 영역의 크기</td>\n",
       "      <td>km^2</td>\n",
       "      <td>NaN</td>\n",
       "    </tr>\n",
       "    <tr>\n",
       "      <th>25</th>\n",
       "      <td>CI_HOUR</td>\n",
       "      <td>대기시간</td>\n",
       "      <td>hour</td>\n",
       "      <td>Target</td>\n",
       "    </tr>\n",
       "  </tbody>\n",
       "</table>\n",
       "</div>"
      ],
      "text/plain": [
       "          Feature Name                                        Description  \\\n",
       "0               ARI_CO                               도착항의 소속국가(도착항 앞 2글자)   \n",
       "1               ARI_PO                                 도착항의 항구명(도착항 뒤 글자)   \n",
       "2   SHIP_TYPE_CATEGORY                              선종 통합 바탕으로 5대 선종으로 분류   \n",
       "3                 DIST                          정박지(ber_port)와 접안지 사이의 거리   \n",
       "4                  ATA  anc_port에 도착한 시점의 utc. 실제 정박 시각(Actual Time of...   \n",
       "5                   ID                                          선박식별 일련번호   \n",
       "6              BREADTH                                              선박의 폭   \n",
       "7                BUILT                                             선박의 연령   \n",
       "8           DEADWEIGHT                                         선박의 재화중량톤수   \n",
       "9                DEPTH                                             선박의 깊이   \n",
       "10             DRAUGHT                                              흘수 높이   \n",
       "11                  GT                               용적톤수(Gross Tonnage)값   \n",
       "12              LENGTH                                             선박의 길이   \n",
       "13         SHIPMANAGER                                             선박 소유주   \n",
       "14                FLAG                                             선박의 국적   \n",
       "15              U_WIND                                             풍향 u벡터   \n",
       "16              V_WIND                                             풍향 v벡터   \n",
       "17     AIR_TEMPERATURE                                                 기온   \n",
       "18                  BN                                          보퍼트 풍력 계급   \n",
       "19              ATA_LT  anc_port에 도착한 시점의 현지 정박 시각(Local Time of Arriv...   \n",
       "20               DUBAI                                        해당일의 두바이유 값   \n",
       "21               BRENT                                        해당일의 브렌트유 값   \n",
       "22                 WTI                                         해당일의 WTI 값   \n",
       "23             BDI_ADJ                                         조정된 벌크운임지수   \n",
       "24           PORT_SIZE                                     접안지 폴리곤 영역의 크기   \n",
       "25             CI_HOUR                                               대기시간   \n",
       "\n",
       "         단위                                       비고  \n",
       "0       NaN                                      NaN  \n",
       "1       NaN                                      NaN  \n",
       "2       NaN                                      NaN  \n",
       "3        km                                      NaN  \n",
       "4      hour                                      NaN  \n",
       "5       NaN                                      NaN  \n",
       "6         m                                      NaN  \n",
       "7      year                                      NaN  \n",
       "8       ton                                      NaN  \n",
       "9         m                                      NaN  \n",
       "10        m                                      NaN  \n",
       "11  GT(m^3)                                      NaN  \n",
       "12        m                                      NaN  \n",
       "13      NaN                                      NaN  \n",
       "14      NaN                                      NaN  \n",
       "15      m/s                                      NaN  \n",
       "16      m/s                                      NaN  \n",
       "17       ºC                                      NaN  \n",
       "18      NaN  https://ko.wikipedia.org/wiki/보퍼트_풍력_계급  \n",
       "19     hour                                      NaN  \n",
       "20   dollar                                      NaN  \n",
       "21   dollar                                      NaN  \n",
       "22   dollar                                      NaN  \n",
       "23      NaN                                      NaN  \n",
       "24     km^2                                      NaN  \n",
       "25     hour                                   Target  "
      ]
     },
     "execution_count": 4,
     "metadata": {},
     "output_type": "execute_result"
    }
   ],
   "source": [
    "data_info"
   ]
  },
  {
   "cell_type": "code",
   "execution_count": 7,
   "metadata": {},
   "outputs": [
    {
     "data": {
      "text/plain": [
       "0         30.736578\n",
       "1         63.220425\n",
       "2         90.427421\n",
       "3          0.000000\n",
       "4          8.813725\n",
       "            ...    \n",
       "367436    59.018184\n",
       "367437     0.000000\n",
       "367438     1.768630\n",
       "367439     0.000000\n",
       "367440    32.152412\n",
       "Name: DIST, Length: 367441, dtype: float64"
      ]
     },
     "execution_count": 7,
     "metadata": {},
     "output_type": "execute_result"
    }
   ],
   "source": [
    "train['DIST']"
   ]
  },
  {
   "cell_type": "code",
   "execution_count": 27,
   "metadata": {},
   "outputs": [
    {
     "name": "stdout",
     "output_type": "stream",
     "text": [
      "367441\n",
      "24764\n"
     ]
    }
   ],
   "source": [
    "print(len(train['SAMPLE_ID'].unique()))\n",
    "print(len(train['ID'].unique()))"
   ]
  },
  {
   "cell_type": "code",
   "execution_count": 31,
   "metadata": {},
   "outputs": [
    {
     "name": "stdout",
     "output_type": "stream",
     "text": [
      "244989\n",
      "23249\n"
     ]
    }
   ],
   "source": [
    "print(len(test['SAMPLE_ID'].unique()))\n",
    "print(len(test['ID'].unique()))"
   ]
  },
  {
   "cell_type": "code",
   "execution_count": 40,
   "metadata": {},
   "outputs": [],
   "source": [
    "# check_id = []\n",
    "# for id in test[\"ID\"].unique():\n",
    "#     if id in set(train[\"ID\"].unique()):\n",
    "#         check_id.append(True)\n",
    "#     else:\n",
    "#         check_id.append(False)"
   ]
  },
  {
   "cell_type": "code",
   "execution_count": 20,
   "metadata": {},
   "outputs": [
    {
     "data": {
      "text/plain": [
       "<AxesSubplot:>"
      ]
     },
     "execution_count": 20,
     "metadata": {},
     "output_type": "execute_result"
    },
    {
     "data": {
      "image/png": "[encoded data removed]",
      "text/plain": [
       "<Figure size 640x480 with 1 Axes>"
      ]
     },
     "metadata": {},
     "output_type": "display_data"
    }
   ],
   "source": [
    "train['U_WIND'].plot()"
   ]
  },
  {
   "cell_type": "code",
   "execution_count": 42,
   "metadata": {},
   "outputs": [
    {
     "data": {
      "text/plain": [
       "21310"
      ]
     },
     "execution_count": 42,
     "metadata": {},
     "output_type": "execute_result"
    }
   ],
   "source": [
    "len(set(train['ID'].unique()) & set(test['ID'].unique()))"
   ]
  },
  {
   "cell_type": "code",
   "execution_count": 41,
   "metadata": {},
   "outputs": [
    {
     "data": {
      "text/plain": [
       "26703"
      ]
     },
     "execution_count": 41,
     "metadata": {},
     "output_type": "execute_result"
    }
   ],
   "source": [
    "len(set(train['ID'].unique()) | set(test['ID'].unique()))"
   ]
  },
  {
   "cell_type": "code",
   "execution_count": 9,
   "metadata": {},
   "outputs": [
    {
     "data": {
      "text/plain": [
       "76.92063716176175"
      ]
     },
     "execution_count": 9,
     "metadata": {},
     "output_type": "execute_result"
    }
   ],
   "source": [
    "train[train[\"SHIP_TYPE_CATEGORY\"] == 'Tanker']['CI_HOUR'].mean()"
   ]
  },
  {
   "cell_type": "code",
   "execution_count": 8,
   "metadata": {},
   "outputs": [
    {
     "data": {
      "text/plain": [
       "39.63370531996334"
      ]
     },
     "execution_count": 8,
     "metadata": {},
     "output_type": "execute_result"
    }
   ],
   "source": [
    "train[train[\"SHIP_TYPE_CATEGORY\"] == 'Container']['CI_HOUR'].mean()"
   ]
  },
  {
   "cell_type": "code",
   "execution_count": 7,
   "metadata": {},
   "outputs": [
    {
     "data": {
      "text/plain": [
       "74.45096214054317"
      ]
     },
     "execution_count": 7,
     "metadata": {},
     "output_type": "execute_result"
    }
   ],
   "source": [
    "train[train[\"SHIP_TYPE_CATEGORY\"] == 'Cargo']['CI_HOUR'].mean()"
   ]
  },
  {
   "cell_type": "code",
   "execution_count": 6,
   "metadata": {},
   "outputs": [
    {
     "data": {
      "text/plain": [
       "79.38123353687838"
      ]
     },
     "execution_count": 6,
     "metadata": {},
     "output_type": "execute_result"
    }
   ],
   "source": [
    "train[train[\"SHIP_TYPE_CATEGORY\"] == 'Bulk']['CI_HOUR'].mean()"
   ]
  },
  {
   "cell_type": "code",
   "execution_count": 10,
   "metadata": {},
   "outputs": [
    {
     "data": {
      "text/plain": [
       "array(['Tanker', 'Container', 'Cargo', 'Bulk'], dtype=object)"
      ]
     },
     "execution_count": 10,
     "metadata": {},
     "output_type": "execute_result"
    }
   ],
   "source": [
    "test['SHIP_TYPE_CATEGORY'].unique()"
   ]
  },
  {
   "cell_type": "code",
   "execution_count": 29,
   "metadata": {},
   "outputs": [
    {
     "data": {
      "text/plain": [
       "array(['Z517571', 'U467618', 'V378315', ..., 'W812631', 'Q748725',\n",
       "       'D815237'], dtype=object)"
      ]
     },
     "execution_count": 29,
     "metadata": {},
     "output_type": "execute_result"
    }
   ],
   "source": [
    "train['ID'].unique()"
   ]
  },
  {
   "cell_type": "markdown",
   "metadata": {},
   "source": [
    "### ARI_CO : categorical feature\n",
    "* 'CN', 'JP', 'RU', 'AU', 'SG', 'ZA', 'KR', 'TW', 'TT', 'ID', 'BR', 'QA', 'LV', 'MZ', 'US', 'IN', 'UA', 'CA', 'MY', 'PE', 'VN', 'FI', 'CL', 'VE', 'PH'\n",
    "* 25개\n",
    "* "
   ]
  },
  {
   "cell_type": "code",
   "execution_count": 5,
   "metadata": {},
   "outputs": [
    {
     "name": "stdout",
     "output_type": "stream",
     "text": [
      "도착항의 소속국가 앞 2 글자 :  25\n",
      "도착항의 항구명 뒤 글자 :  103\n"
     ]
    }
   ],
   "source": [
    "print('도착항의 소속국가 앞 2 글자 : ',len(train['ARI_CO'].unique()))\n",
    "print('도착항의 항구명 뒤 글자 : ',len(train['ARI_PO'].unique()))"
   ]
  },
  {
   "cell_type": "code",
   "execution_count": 22,
   "metadata": {},
   "outputs": [
    {
     "data": {
      "text/plain": [
       "ARI_CO  ARI_PO\n",
       "AU      WHH4      9408\n",
       "        AIB7      4913\n",
       "        NQO4      4010\n",
       "        KSF1      3520\n",
       "        YDP4      3342\n",
       "                  ... \n",
       "VE      JEA6        89\n",
       "VN      QRN3       792\n",
       "        JGL5       677\n",
       "        ONW1        17\n",
       "ZA      CXL1      1560\n",
       "Name: ARI_PO, Length: 104, dtype: int64"
      ]
     },
     "execution_count": 22,
     "metadata": {},
     "output_type": "execute_result"
    }
   ],
   "source": [
    "train.groupby('ARI_CO')['ARI_PO'].value_counts()"
   ]
  },
  {
   "cell_type": "code",
   "execution_count": 23,
   "metadata": {},
   "outputs": [
    {
     "data": {
      "text/plain": [
       "ARI_CO  ARI_PO\n",
       "SG      GIW5      41214\n",
       "CN      NGG6      27243\n",
       "TW      JWI3      22995\n",
       "CN      EUC8      21263\n",
       "        EKP8      18465\n",
       "                  ...  \n",
       "PH      XZF6         85\n",
       "RU      ZME5         38\n",
       "VN      ONW1         17\n",
       "ID      DIN2         13\n",
       "CN      RGT8          6\n",
       "Length: 104, dtype: int64"
      ]
     },
     "execution_count": 23,
     "metadata": {},
     "output_type": "execute_result"
    }
   ],
   "source": [
    "train[['ARI_CO', 'ARI_PO']].value_counts()"
   ]
  }
 ],
 "metadata": {
  "kernelspec": {
   "display_name": "Python 3",
   "language": "python",
   "name": "python3"
  },
  "language_info": {
   "codemirror_mode": {
    "name": "ipython",
    "version": 3
   },
   "file_extension": ".py",
   "mimetype": "text/x-python",
   "name": "python",
   "nbconvert_exporter": "python",
   "pygments_lexer": "ipython3",
   "version": "3.9.17"
  },
  "orig_nbformat": 4
 },
 "nbformat": 4,
 "nbformat_minor": 2
}
