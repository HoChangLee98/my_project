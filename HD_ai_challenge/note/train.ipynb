{
 "cells": [
  {
   "cell_type": "code",
   "execution_count": 1,
   "metadata": {},
   "outputs": [
    {
     "name": "stderr",
     "output_type": "stream",
     "text": [
      "[I 2023-10-04 14:55:21,616] A new study created in memory with name: no-name-ee9b1c84-344f-417b-abe8-81e178a22406\n"
     ]
    },
    {
     "name": "stdout",
     "output_type": "stream",
     "text": [
      "[LightGBM] [Info] Total Bins 22694\n",
      "[LightGBM] [Info] Number of data points in the train set: 257208, number of used features: 27\n"
     ]
    },
    {
     "name": "stderr",
     "output_type": "stream",
     "text": [
      "[I 2023-10-04 14:55:38,767] Trial 0 finished with value: 2.7867058059125154 and parameters: {'num_iteration': 641, 'learning_rate': 0.005480573348122462, 'num_leaves': 24, 'max_depth': 6, 'min_data_in_leaf': 259, 'lambda_l1': 0.016784527289964487, 'lambda_l2': 0.00010369273949998598}. Best is trial 0 with value: 2.7867058059125154.\n"
     ]
    },
    {
     "name": "stdout",
     "output_type": "stream",
     "text": [
      "[LightGBM] [Info] Total Bins 22694\n",
      "[LightGBM] [Info] Number of data points in the train set: 257208, number of used features: 27\n"
     ]
    },
    {
     "name": "stderr",
     "output_type": "stream",
     "text": [
      "[I 2023-10-04 14:55:42,994] Trial 1 finished with value: 1.7187825593401596 and parameters: {'num_iteration': 412, 'learning_rate': 0.03265607036826561, 'num_leaves': 2, 'max_depth': 11, 'min_data_in_leaf': 96, 'lambda_l1': 6.607338345216472, 'lambda_l2': 0.0013966102809988687}. Best is trial 1 with value: 1.7187825593401596.\n"
     ]
    }
   ],
   "source": [
    "import os\n",
    "import sys\n",
    "sys.path.append(\"../src/\")\n",
    "import argparse\n",
    "import pandas as pd\n",
    "\n",
    "from sklearn.metrics import mean_absolute_error\n",
    "\n",
    "from utils import *\n",
    "from preprocess import PreProcessor\n",
    "from model import Model, OptunaProcessor\n",
    "\n",
    "categorical_feature = ['ARI_CO', 'ARI_PO', 'SHIP_TYPE_CATEGORY', 'ID', 'SHIPMANAGER', 'FLAG']\n",
    "\n",
    "def train(args):\n",
    "    ## load data set\n",
    "    X_train, y_train, X_valid, y_valid = load_dataset(mode='train')\n",
    "\n",
    "    ## preprocess data set\n",
    "    preprocessing = PreProcessor(categorical_feature=categorical_feature)\n",
    "    encoder_dict = preprocessing.categorical_process_fit(X_train)\n",
    "\n",
    "    save_pickle(file=encoder_dict, file_name=\"labelencoder\", path=f\"{args.pickle_path}{args.version}encoder\")\n",
    "\n",
    "    X_train = preprocessing.run(X_train, encoder=encoder_dict, drop=True)\n",
    "    X_valid = preprocessing.run(X_valid, encoder=encoder_dict, drop=True)\n",
    "\n",
    "    X_train, y_train = reset_data(X_train, y_train)\n",
    "    X_valid, y_valid = reset_data(X_valid, y_valid)\n",
    "\n",
    "    ## progress optuna\n",
    "    if args.mode == 'optuna':\n",
    "        print(\"     Strat Optuna!\")\n",
    "        optuna = OptunaProcessor(X_train=X_train, y_train=y_train, X_valid=X_valid, y_valid=y_valid, categorical_feature=categorical_feature)\n",
    "        optuna_process = optuna.run_optuna(n_trials=args.n_trials, model_name=args.model_name)\n",
    "        best_optuna_params = optuna_process.params\n",
    "        print(\"     Done Optuna!\")\n",
    "        \n",
    "        save_pickle(file=best_optuna_params, file_name=f\"{args.model_name}_optuna\", path=f\"{args.pickle_path}/{args.version}\")\n",
    "\n",
    "    else: \n",
    "        best_optuna_params = load_pickle(file_name=f\"{args.model_name}_optuna\", path=f\"{args.pickle_path}/{args.version}\")\n",
    "\n",
    "    ## train model\n",
    "    model = Model(\n",
    "        model_params=best_optuna_params, \n",
    "        categorical_feature=categorical_feature, \n",
    "        X_train=X_train, \n",
    "        y_train=y_train,\n",
    "        X_valid=X_valid,\n",
    "        y_valid=y_valid,\n",
    "        model_name=args.model_name\n",
    "        )\n",
    "    model = model.fit()\n",
    "    \n",
    "    save_pickle(file=model, file_name=args.model_name, path=f\"{args.pickle_path}/{args.version}\")\n",
    "\n",
    "    mae = mean_absolute_error(model.predict(X_valid), y_valid)\n",
    "    print(\"Model Name : \", args.model_name)\n",
    "    print(\"Validatio MAE : \", mae)\n",
    "\n",
    "if __name__ == \"__main__\":\n",
    "    parser = argparse.ArgumentParser()\n",
    "    parser.add_argument(\"--pickle_path\", \"-pp\", type=int, default=\"../pickle\", help=\"path of pickle folder\")\n",
    "    parser.add_argument(\"--version\", \"-v\", type=str, default=\"test_version\", help=\"version number\")\n",
    "    parser.add_argument(\"--mode\", \"-m\", type=str, default=\"\", help=\"progress optuna\")\n",
    "    parser.add_argument(\"--n_trials\", \"-n\", type=int, default=2, help=\"set number of trials\")\n",
    "    parser.add_argument(\"--model_name\", \"-mn\", type=str, default=\"lgboost\", help=\"select model\")\n",
    "    args = parser.parse_args()\n",
    "    train(args)"
   ]
  },
  {
   "cell_type": "code",
   "execution_count": 6,
   "metadata": {},
   "outputs": [
    {
     "data": {
      "text/plain": [
       "['SHIP_TYPE_CATEGORY', 'ATA', 'FLAG', 'ID', 'ARI_PO', 'SHIPMANAGER', 'ARI_CO']"
      ]
     },
     "execution_count": 6,
     "metadata": {},
     "output_type": "execute_result"
    }
   ],
   "source": []
  }
 ],
 "metadata": {
  "kernelspec": {
   "display_name": "test01",
   "language": "python",
   "name": "python3"
  },
  "language_info": {
   "codemirror_mode": {
    "name": "ipython",
    "version": 3
   },
   "file_extension": ".py",
   "mimetype": "text/x-python",
   "name": "python",
   "nbconvert_exporter": "python",
   "pygments_lexer": "ipython3",
   "version": "3.9.16"
  },
  "orig_nbformat": 4
 },
 "nbformat": 4,
 "nbformat_minor": 2
}
