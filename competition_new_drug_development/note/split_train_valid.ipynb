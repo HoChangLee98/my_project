{
 "cells": [
  {
   "cell_type": "code",
   "execution_count": null,
   "metadata": {},
   "outputs": [],
   "source": [
    "import os\n",
    "import sys\n",
    "sys.path.append(os.path.dirname(\"../src/\"))\n",
    "\n",
    "import pandas as pd\n",
    "import numpy as np\n",
    "\n",
    "from utils import *\n",
    "from sklearn.model_selection import train_test_split"
   ]
  },
  {
   "cell_type": "code",
   "execution_count": null,
   "metadata": {},
   "outputs": [],
   "source": [
    "X_train, y_train_MLM, y_train_HLM, X_test = dataloader()"
   ]
  },
  {
   "cell_type": "code",
   "execution_count": null,
   "metadata": {},
   "outputs": [],
   "source": [
    "X_train_MLM, X_valid_MLM, y_train_MLM, y_valid_MLM = train_test_split(X_train, y_train_MLM, test_size=0.3, random_state=0)\n",
    "X_train_HLM, X_valid_HLM, y_train_HLM, y_valid_HLM = train_test_split(X_train, y_train_HLM, test_size=0.3, random_state=0)"
   ]
  },
  {
   "cell_type": "code",
   "execution_count": null,
   "metadata": {},
   "outputs": [],
   "source": [
    "X_train_MLM.to_csv(\"../data/X_train_MLM.csv\", index=False)\n",
    "X_valid_MLM.to_csv(\"../data/X_valid_MLM.csv\", index=False)\n",
    "y_train_MLM.to_csv(\"../data/y_train_MLM.csv\", index=False)\n",
    "y_valid_MLM.to_csv(\"../data/y_valid_MLM.csv\", index=False)\n",
    "\n",
    "X_train_HLM.to_csv(\"../data/X_train_HLM.csv\", index=False)\n",
    "X_valid_HLM.to_csv(\"../data/X_valid_HLM.csv\", index=False)\n",
    "y_train_HLM.to_csv(\"../data/y_train_HLM.csv\", index=False)\n",
    "y_valid_HLM.to_csv(\"../data/y_valid_HLM.csv\", index=False)"
   ]
  },
  {
   "cell_type": "code",
   "execution_count": null,
   "metadata": {},
   "outputs": [],
   "source": []
  }
 ],
 "metadata": {
  "kernelspec": {
   "display_name": "test01",
   "language": "python",
   "name": "python3"
  },
  "language_info": {
   "codemirror_mode": {
    "name": "ipython",
    "version": 3
   },
   "file_extension": ".py",
   "mimetype": "text/x-python",
   "name": "python",
   "nbconvert_exporter": "python",
   "pygments_lexer": "ipython3",
   "version": "3.9.16"
  },
  "orig_nbformat": 4
 },
 "nbformat": 4,
 "nbformat_minor": 2
}
