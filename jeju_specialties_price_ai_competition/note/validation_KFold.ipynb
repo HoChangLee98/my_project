{
 "cells": [
  {
   "cell_type": "code",
   "execution_count": 7,
   "metadata": {},
   "outputs": [],
   "source": [
    "import pandas as pd\n",
    "import numpy as np\n",
    "import warnings\n",
    "warnings.filterwarnings(action='ignore')\n",
    "from sklearn.preprocessing import OneHotEncoder\n",
    "from sklearn.model_selection import KFold\n",
    "from sklearn.metrics import mean_squared_error\n",
    "import lightgbm"
   ]
  },
  {
   "cell_type": "markdown",
   "metadata": {},
   "source": [
    "### Data"
   ]
  },
  {
   "cell_type": "code",
   "execution_count": 8,
   "metadata": {},
   "outputs": [],
   "source": [
    "train = pd.read_csv(\"../data/train.csv\")\n",
    "test = pd.read_csv(\"../data/test.csv\")\n",
    "international_trade = pd.read_csv(\"../data/international_trade.csv\")"
   ]
  },
  {
   "cell_type": "code",
   "execution_count": 9,
   "metadata": {},
   "outputs": [],
   "source": [
    "# for time series model\n",
    "train[\"case\"] = train[\"ID\"].apply(lambda x : x[0:6])\n",
    "\n",
    "## for machine learning model\n",
    "train[\"timestamp\"] = pd.to_datetime(train[\"timestamp\"])\n",
    "train[\"year\"] = train[\"timestamp\"].dt.year\n",
    "train[\"month\"] = train[\"timestamp\"].dt.month\n",
    "train[\"day\"] = train[\"timestamp\"].dt.day\n",
    "train = train.drop(columns=[\"ID\", \"supply(kg)\"])\n",
    "\n",
    "X_train = train[[\"case\", \"timestamp\", \"item\", \"corporation\", \"location\", \"year\", \"month\", \"day\"]]\n",
    "y_train = train[\"price(원/kg)\"]"
   ]
  },
  {
   "cell_type": "code",
   "execution_count": 10,
   "metadata": {},
   "outputs": [],
   "source": [
    "## OneHotEncoding\n",
    "for catfeature in [\"item\", \"corporation\", \"location\"]:\n",
    "    encoder = OneHotEncoder(sparse=False)\n",
    "    fitted_encoder = encoder.fit(X_train[[catfeature]]) \n",
    "    cat = pd.DataFrame(fitted_encoder.transform(X_train[[catfeature]].to_numpy()), columns=[str(col) for col in fitted_encoder.categories_[0]])\n",
    "    X_train = X_train.drop(columns=catfeature)\n",
    "    X_train = pd.concat([X_train, cat], axis=1)"
   ]
  },
  {
   "cell_type": "markdown",
   "metadata": {},
   "source": [
    "### KFold"
   ]
  },
  {
   "cell_type": "code",
   "execution_count": 11,
   "metadata": {},
   "outputs": [],
   "source": [
    "X_train = X_train.drop(columns=[\"case\", \"timestamp\"])"
   ]
  },
  {
   "cell_type": "code",
   "execution_count": 12,
   "metadata": {},
   "outputs": [],
   "source": [
    "def kfold(X, y, n_splits:int, shuffle:bool, random_state:int=None):\n",
    "    '''\n",
    "    ** shuffle이 True 일 경우 random_state 설정 필요!!\n",
    "    '''\n",
    "    if not shuffle:\n",
    "        random_state = None\n",
    "    \n",
    "    kf = KFold(n_splits=n_splits, shuffle=shuffle, random_state=random_state)\n",
    "    scores = []\n",
    "    for i, (index_train, index_valid) in enumerate(kf.split(X)):\n",
    "        # print(f\"Fold: {i}\")\n",
    "        X_tr, y_tr = X.loc[index_train], y[index_train]\n",
    "        X_val, y_val = X.loc[index_valid], y[index_valid]\n",
    "\n",
    "        model = lightgbm.LGBMRegressor()\n",
    "        model.fit(X_tr, y_tr, eval_metric=\"rmse\", eval_set=[(X_tr, y_tr), (X_val, y_val)], verbose=False)\n",
    "        y_val_pred = model.predict(X_val)\n",
    "        each_fold_rmse = mean_squared_error(y_true=y_val, y_pred=y_val_pred, squared=False)\n",
    "        scores.append(each_fold_rmse)\n",
    "        # print(f\"     Train Set len: {len(index_train)}\")\n",
    "        # print(f\"     Validation Set len: {len(index_valid)}\")\n",
    "        # print(f\"     Rmse: {each_fold_rmse}\")\n",
    "        \n",
    "    score = np.mean(scores)\n",
    "    # print(\"-----------------------------------\")\n",
    "    # print(f\"Mean Rmse: {score}\")\n",
    "    \n",
    "    return score"
   ]
  },
  {
   "cell_type": "code",
   "execution_count": 13,
   "metadata": {},
   "outputs": [
    {
     "name": "stdout",
     "output_type": "stream",
     "text": [
      "Fold: 0\n"
     ]
    },
    {
     "name": "stdout",
     "output_type": "stream",
     "text": [
      "     Train Set len: 44547\n",
      "     Validation Set len: 14850\n",
      "     Rmse: 1190.121824323517\n",
      "Fold: 1\n",
      "     Train Set len: 44548\n",
      "     Validation Set len: 14849\n",
      "     Rmse: 1218.571740261907\n",
      "Fold: 2\n",
      "     Train Set len: 44548\n",
      "     Validation Set len: 14849\n",
      "     Rmse: 1181.7742074509133\n",
      "Fold: 3\n",
      "     Train Set len: 44548\n",
      "     Validation Set len: 14849\n",
      "     Rmse: 1207.2078747610612\n",
      "-----------------------------------\n",
      "Mean Rmse: 1199.4189116993498\n"
     ]
    },
    {
     "data": {
      "text/plain": [
       "1199.4189116993498"
      ]
     },
     "execution_count": 13,
     "metadata": {},
     "output_type": "execute_result"
    }
   ],
   "source": [
    "kfold(X_train, y_train, n_splits=4, shuffle=True, random_state=0)"
   ]
  }
 ],
 "metadata": {
  "kernelspec": {
   "display_name": "test01",
   "language": "python",
   "name": "python3"
  },
  "language_info": {
   "codemirror_mode": {
    "name": "ipython",
    "version": 3
   },
   "file_extension": ".py",
   "mimetype": "text/x-python",
   "name": "python",
   "nbconvert_exporter": "python",
   "pygments_lexer": "ipython3",
   "version": "3.9.17"
  }
 },
 "nbformat": 4,
 "nbformat_minor": 2
}
